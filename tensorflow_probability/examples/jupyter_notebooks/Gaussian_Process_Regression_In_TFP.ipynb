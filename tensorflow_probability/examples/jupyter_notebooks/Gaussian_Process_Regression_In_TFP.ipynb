{
  "cells": [
    {
      "cell_type": "markdown",
      "metadata": {
        "colab_type": "text",
        "id": "ADKY4re5Kx-5"
      },
      "source": [
        "##### Copyright 2018 The TensorFlow Authors.\n",
        "\n",
        "Licensed under the Apache License, Version 2.0 (the \"License\");"
      ]
    },
    {
      "cell_type": "code",
      "execution_count": 0,
      "metadata": {
        "colab": {},
        "colab_type": "code",
        "id": "S2AOrHzjK0_L"
      },
      "outputs": [],
      "source": [
        "#@title Licensed under the Apache License, Version 2.0 (the \"License\"); { display-mode: \"form\" }\n",
        "# you may not use this file except in compliance with the License.\n",
        "# You may obtain a copy of the License at\n",
        "#\n",
        "# https://www.apache.org/licenses/LICENSE-2.0\n",
        "#\n",
        "# Unless required by applicable law or agreed to in writing, software\n",
        "# distributed under the License is distributed on an \"AS IS\" BASIS,\n",
        "# WITHOUT WARRANTIES OR CONDITIONS OF ANY KIND, either express or implied.\n",
        "# See the License for the specific language governing permissions and\n",
        "# limitations under the License."
      ]
    },
    {
      "cell_type": "markdown",
      "metadata": {
        "colab_type": "text",
        "id": "56dF5DnkKx0a"
      },
      "source": [
        "# Gaussian Process Regression in TensorFlow Probability\n",
        "\n",
        "\u003ctable class=\"tfo-notebook-buttons\" align=\"left\"\u003e\n",
        "  \u003ctd\u003e\n",
        "    \u003ca target=\"_blank\" href=\"https://colab.research.google.com/github/tensorflow/probability/blob/master/tensorflow_probability/examples/jupyter_notebooks/Credit_Card_Interest.ipynb\"\u003e\u003cimg src=\"https://www.tensorflow.org/images/colab_logo_32px.png\" /\u003eRun in Google Colab\u003c/a\u003e\n",
        "  \u003c/td\u003e\n",
        "  \u003ctd\u003e\n",
        "    \u003ca target=\"_blank\" href=\"https://github.com/tensorflow/probability/blob/master/tensorflow_probability/examples/jupyter_notebooks/Credit_Card_Interest.ipynb\"\u003e\u003cimg src=\"https://www.tensorflow.org/images/GitHub-Mark-32px.png\" /\u003eView source on GitHub\u003c/a\u003e\n",
        "  \u003c/td\u003e\n",
        "\u003c/table\u003e"
      ]
    },
    {
      "cell_type": "markdown",
      "metadata": {
        "colab_type": "text",
        "id": "rTFa-AE9KxFC"
      },
      "source": [
        "In this colab, we explore Gaussian process regression using\n",
        "TensorFlow and TensorFlow Probability. We generate some noisy observations from\n",
        "some known functions and fit GP models to those data. We then sample from the GP\n",
        "posterior and plot the sampled function values over grids in their domains.\n"
      ]
    },
    {
      "cell_type": "markdown",
      "metadata": {
        "colab_type": "text",
        "id": "n4-qQf7qZLVI"
      },
      "source": [
        "## Background\n",
        "Let $\\mathcal{X}$ be any set. A *Gaussian process*\u003csup\u003e[1](#scrollTo=aV6GGE_TVDzE)\u003c/sup\u003e\n",
        "(GP) is a collection of random variables indexed by $\\mathcal{X}$ such that if\n",
        "$\\{X_1, \\ldots, X_n\\} \\subset \\mathcal{X}$ is any finite subset, the marginal density\n",
        "$p(X_1 = x_1, \\ldots, X_n = x_n)$ is multivariate Gaussian. Any Gaussian\n",
        "distribution is completely specified by its first and second central moments\n",
        "(mean and covariance), and GP's are no exception. We can specify a GP completely\n",
        "in terms of its mean function $\\mu : \\mathcal{X} \\to \\mathbb{R}$ and covariance function\n",
        "$k : \\mathcal{X} \\times \\mathcal{X} \\to \\mathbb{R}$. Most of the expressive power of GP's is encapsulated\n",
        "in the choice of covariance function. For various reasons, the covariance\n",
        "function is also referred to as a *kernel function*. It is required only to be\n",
        "symmetric and positive-definite (see [Ch. 4 of Rasmussen \u0026 Williams](\n",
        "http://www.gaussianprocess.org/gpml/chapters/RW4.pdf)). Below we make use of the\n",
        "ExponentiatedQuadratic covariance kernel. Its form is\n",
        "\n",
        "$$\n",
        "k(x, x') := \\sigma^2 \\exp \\left( \\frac{\\|x - x'\\|^2}{\\lambda^2} \\right)\n",
        "$$\n",
        "\n",
        "where $\\sigma^2$ is called the 'amplitude' and $\\lambda$ the *length scale*.\n",
        "The kernel parameters can be selected via a maximum likelihood optimization\n",
        "procedure.\n",
        "\n",
        "A full sample from a GP comprises a real-valued function over the entire space\n",
        "$\\mathcal{X}$ and is in practice impractical to realize; often one chooses a set of\n",
        "points at which to observe a sample and draws function values at these points.\n",
        "This is achieved by sampling from an appropriate (finite-dimensional)\n",
        "multi-variate Gaussian.\n",
        "\n",
        "Note that, according to the above definition, any finite-dimensional\n",
        "multivariate Gaussian distribution is also a Gaussian process. Usually, when\n",
        "one refers to a GP, it is implicit that the index set is some $\\mathbb{R}^n$\n",
        "and we will indeed make this assumption here.\n",
        "\n",
        "A common application of Gaussian processes in machine learning is Gaussian\n",
        "process regression. The idea is that we wish to estimate an unknown function\n",
        "given noisy observations $\\{y_1, \\ldots, y_N\\}$ of the function at a finite\n",
        "number of points $\\{x_1, \\ldots x_N\\}.$ We imagine a generative process\n",
        "\n",
        "$$\n",
        "\\begin{align}\n",
        "f \\sim \\: \u0026 \\textsf{GaussianProcess}\\left(\n",
        "    \\text{mean_fn}=\\mu(x),\n",
        "    \\text{covariance_fn}=k(x, x')\\right) \\\\\n",
        "y_i \\sim \\: \u0026 \\textsf{Normal}\\left(\n",
        "    \\text{loc}=f(x_i),\n",
        "    \\text{scale}=\\sigma\\right), i = 1, \\ldots, N\n",
        "\\end{align}\n",
        "$$\n",
        "\n",
        "As noted above, the sampled function is impossible to compute, since we would\n",
        "require its value at an infinite number of points. Instead, one considers a\n",
        "finite sample from a multivariate Gaussian.\n",
        "\n",
        "$$\n",
        "  \\begin{gather}\n",
        "    \\begin{bmatrix}\n",
        "      f(x_1) \\\\\n",
        "      \\vdots \\\\\n",
        "      f(x_N)\n",
        "    \\end{bmatrix}\n",
        "    \\sim\n",
        "    \\textsf{MultivariateNormal} \\left( \\:\n",
        "      \\text{loc}=\n",
        "      \\begin{bmatrix}\n",
        "        \\mu(x_1) \\\\\n",
        "        \\vdots \\\\\n",
        "        \\mu(x_N)\n",
        "      \\end{bmatrix} \\:,\\:\n",
        "      \\text{scale}=\n",
        "      \\begin{bmatrix}\n",
        "        k(x_1, x_1) \u0026 \\cdots \u0026 k(x_1, x_N) \\\\\n",
        "        \\vdots \u0026 \\ddots \u0026 \\vdots \\\\\n",
        "        k(x_N, x_1) \u0026 \\cdots \u0026 k(x_N, x_N) \\\\\n",
        "      \\end{bmatrix}^{1/2}\n",
        "    \\: \\right)\n",
        "  \\end{gather} \\\\\n",
        "  y_i \\sim \\textsf{Normal} \\left(\n",
        "      \\text{loc}=f(x_i),\n",
        "      \\text{scale}=\\sigma\n",
        "  \\right)\n",
        "$$\n",
        "\n",
        "Note the exponent $\\frac{1}{2}$ on the covariance matrix: this denotes a\n",
        "Cholesky decomposition. Comptuing the Cholesky is necessary because the MVN is\n",
        "a location-scale family distribution. Unfortunately the Cholesky decomposition\n",
        "is computationally expensive, taking $O(N^3)$ time and $O(N^2)$ space. Much of\n",
        "the GP literature is focused on dealing with this seemingly innocuous little\n",
        "exponent.\n",
        "\n",
        "this denotes a Cholesky decomposition. Computing the Cholesky is necessary because the MVN is a location-scale family. Unfortunately the Cholesky decomposition is computationally expensive, taking $O(N^3)$ time and $O(N^2)$ space. Much of the GP literature is focused on dealing with this seemingly innocuous little exponent.\n",
        "\n",
        "It is common to take the prior mean function to be constant, often zero. Also,\n",
        "some notational conventions are convenient. One often writes $\\mathbf{f}$ for the\n",
        "finite vector of sampled function values. A number of interesting notations are\n",
        "used for the covariance matrix resulting from the application of $k$ to pairs of\n",
        "inputs. Following [(Quiñonero-Candela, 2005)][QuinoneroCandela2005], we note\n",
        "that the components of the matrix are covariances of function values at\n",
        "particular input points. Thus we can denote the covariance matrix as $K_{AB}$\n",
        "where $A$ and $B$ are some indicators of the collection of function values along\n",
        "the given matrix dimensions.\n",
        "\n",
        "[QuinoneroCandela2005]: http://www.jmlr.org/papers/volume6/quinonero-candela05a/quinonero-candela05a.pdf\n",
        "\n",
        "For example, given observed data $(\\mathbf{x}, \\mathbf{y})$ with implied latent function\n",
        "values $\\mathbf{f}$, we can write\n",
        "\n",
        "$$\n",
        "K_{\\mathbf{f},\\mathbf{f}} = \\begin{bmatrix}\n",
        "  k(x_1, x_1) \u0026 \\cdots \u0026 k(x_1, x_N) \\\\\n",
        "  \\vdots \u0026 \\ddots \u0026 \\vdots \\\\\n",
        "  k(x_N, x_1) \u0026 \\cdots \u0026 k(x_N, x_N) \\\\\n",
        "\\end{bmatrix}\n",
        "$$\n",
        "\n",
        "Similarly, we can mix sets of inputs, as in\n",
        "\n",
        "$$\n",
        "K_{\\mathbf{f},*} = \\begin{bmatrix}\n",
        "  k(x_1, x^*_1) \u0026 \\cdots \u0026 k(x_1, x^*_T) \\\\\n",
        "  \\vdots \u0026 \\ddots \u0026 \\vdots \\\\\n",
        "  k(x_N, x^*_1) \u0026 \\cdots \u0026 k(x_N, x^*_T) \\\\\n",
        "\\end{bmatrix}\n",
        "$$\n",
        "\n",
        "where we suppose there are $N$ training inputs, and $T$ test inputs. The above\n",
        "generative process may then be written compactly as\n",
        "\n",
        "$$\n",
        "\\begin{align}\n",
        "\\mathbf{f} \\sim \\: \u0026 \\textsf{MultivariateNormal} \\left(\n",
        "        \\text{loc}=\\mathbf{0},\n",
        "        \\text{scale}=K_{\\mathbf{f},\\mathbf{f}}^{1/2}\n",
        "    \\right) \\\\\n",
        "y_i \\sim \\: \u0026 \\textsf{Normal} \\left(\n",
        "    \\text{loc}=f_i,\n",
        "    \\text{scale}=\\sigma \\right), i = 1, \\ldots, N\n",
        "\\end{align}\n",
        "$$\n",
        "\n",
        "The sampling operation in the first line yields a finite set of $N$ function\n",
        "values from a multivariate Gaussian -- *not an entire function as in the above\n",
        "GP draw notation*. The second line describes a collection of $N$ draws from\n",
        "*univariate* Gaussians centered at the various function values, with fixed\n",
        "observation noise $\\sigma^2$.\n",
        "\n",
        "With the above generative model in place, we can proceed to consider the\n",
        "posterior inference problem. This yields a posterior distribution over function\n",
        "values at a new set of test points, conditioned on the observed noisy data from\n",
        "the process above.\n",
        "\n",
        "With the above notation in place, we can compactly write the posterior\n",
        "predictive distribution over future (noisy) observations conditional on\n",
        "corresponding inputs and training data as follows (for more details, see §2.2 of\n",
        "[Rasmussen \u0026 Williams](http://www.gaussianprocess.org/gpml/)). \n",
        "\n",
        "$$\n",
        "\\mathbf{y}^* \\mid \\mathbf{x}^*, \\mathbf{x}, \\mathbf{y} \\sim \\textsf{Normal} \\left(\n",
        "    \\text{loc}=\\mathbf{\\mu}^*,\n",
        "    \\text{scale}=(\\Sigma^*)^{1/2}\n",
        "\\right),\n",
        "$$\n",
        "\n",
        "where\n",
        "\n",
        "$$\n",
        "\\mathbf{\\mu}^* = K_{*,\\mathbf{f}}\\left(K_{\\mathbf{f},\\mathbf{f}} + \\sigma^2 I \\right)^{-1} \\mathbf{y}\n",
        "$$\n",
        "\n",
        "and\n",
        "\n",
        "$$\n",
        "\\Sigma^* = K_{*,*} - K_{*,\\mathbf{f}}\n",
        "    \\left(K_{\\mathbf{f},\\mathbf{f}} + \\sigma^2 I \\right)^{-1} K_{\\mathbf{f},*}\n",
        "$$\n",
        "\n",
        "---\n",
        "\n",
        "1) A note on terminology: classically, such a distribution over an index set\n",
        "$\\mathbb{R}^n$ is referred to as a\n",
        "[*Gaussian random field*](https://wikipedia.org/wiki/Gaussian_random_field). The\n",
        "term \"Gaussian process\" applies to the particular case where $n = 1$, and\n",
        "indices $t \\in \\mathbb{R}$ correspond to values of a time parameter. Nevertheless, the\n",
        "field of machine learning has taken (as will we) to referring to GRF's over\n",
        "*any* $\\mathbb{R}^n$ as Gaussian processes. ¯\\\\_(ツ)_/¯"
      ]
    },
    {
      "cell_type": "markdown",
      "metadata": {
        "colab_type": "text",
        "id": "QF_BW8m_c3_d"
      },
      "source": [
        "## Imports"
      ]
    },
    {
      "cell_type": "markdown",
      "metadata": {
        "colab_type": "text",
        "id": "QkpHg_HDc5Tx"
      },
      "source": [
        ""
      ]
    },
    {
      "cell_type": "code",
      "execution_count": 52,
      "metadata": {
        "cellView": "code",
        "colab": {
          "height": 34
        },
        "colab_type": "code",
        "executionInfo": {
          "elapsed": 238,
          "status": "ok",
          "timestamp": 1538454984483,
          "user": {
            "displayName": "",
            "photoUrl": "",
            "userId": ""
          },
          "user_tz": 240
        },
        "id": "jw-_1yC50xaM",
        "outputId": "108b5c07-1e62-4f8b-cf84-764306430f9a"
      },
      "outputs": [
        {
          "name": "stdout",
          "output_type": "stream",
          "text": [
            "Populating the interactive namespace from numpy and matplotlib\n"
          ]
        }
      ],
      "source": [
        "import numpy as np\n",
        "import tensorflow as tf\n",
        "from mpl_toolkits.mplot3d import Axes3D\n",
        "from tensorflow_probability import distributions as tfd\n",
        "from tensorflow_probability import positive_semidefinite_kernels as tfk\n",
        "\n",
        "%pylab inline\n",
        "# Configure plot defaults\n",
        "plt.rcParams['axes.facecolor'] = 'white'\n",
        "plt.rcParams['grid.color'] = '#666666'\n",
        "%config InlineBackend.figure_format = 'png'"
      ]
    },
    {
      "cell_type": "markdown",
      "metadata": {
        "colab_type": "text",
        "id": "cu9S6c7uuvC1"
      },
      "source": [
        "## Example: Exact GP Regression on Noisy Sinusoidal Data\n",
        "Here we generate training data from a noisy sinusoid, then sample a bunch of\n",
        "curves from the posterior of the GP regression model. We use\n",
        "[Adam](https://arxiv.org/abs/1412.6980) to optimize the kernel hyperparameters\n",
        "(we minimize the negative log likelihood of the data under the prior). We\n",
        "plot the training curve, followed by the true function and the posterior\n",
        "samples."
      ]
    },
    {
      "cell_type": "code",
      "execution_count": 0,
      "metadata": {
        "colab": {},
        "colab_type": "code",
        "id": "-YvP5laJwi_Q"
      },
      "outputs": [],
      "source": [
        "def reset_session():\n",
        "  \"\"\"Creates a new global, interactive session in Graph-mode.\"\"\"\n",
        "  global sess\n",
        "  try:\n",
        "    tf.reset_default_graph()\n",
        "    sess.close()\n",
        "  except:\n",
        "    pass\n",
        "  sess = tf.InteractiveSession()\n",
        "\n",
        "reset_session()"
      ]
    },
    {
      "cell_type": "code",
      "execution_count": 0,
      "metadata": {
        "colab": {},
        "colab_type": "code",
        "id": "Qrys68xzZE-c"
      },
      "outputs": [],
      "source": [
        "def sinusoid(x):\n",
        "  return np.sin(3 * np.pi * x[..., 0])\n",
        "\n",
        "def generate_1d_data(num_training_points, observation_noise_variance):\n",
        "  \"\"\"Generate noisy sinusoidal observations at a random set of points.\n",
        "\n",
        "  Returns:\n",
        "     observation_index_points, observations\n",
        "  \"\"\"\n",
        "  index_points_ = np.random.uniform(-1., 1., (num_training_points, 1))\n",
        "  index_points_ = index_points_.astype(np.float64)\n",
        "  # y = f(x) + noise\n",
        "  observations_ = (sinusoid(index_points_) +\n",
        "                   np.random.normal(loc=0,\n",
        "                                    scale=np.sqrt(observation_noise_variance),\n",
        "                                    size=(num_training_points)))\n",
        "  return index_points_, observations_"
      ]
    },
    {
      "cell_type": "code",
      "execution_count": 0,
      "metadata": {
        "colab": {},
        "colab_type": "code",
        "id": "Tem9p8rUlqQR"
      },
      "outputs": [],
      "source": [
        "# Generate training data with a known noise level (we'll later try to recover\n",
        "# this value from the data).\n",
        "NUM_TRAINING_POINTS = 100\n",
        "observation_index_points_, observations_ = generate_1d_data(\n",
        "    num_training_points=NUM_TRAINING_POINTS,\n",
        "    observation_noise_variance=.1)"
      ]
    },
    {
      "cell_type": "code",
      "execution_count": 0,
      "metadata": {
        "colab": {},
        "colab_type": "code",
        "id": "ByXndE3pkA4x"
      },
      "outputs": [],
      "source": [
        "# Create the trainable model parameters, which we'll subsequently optimize.\n",
        "# Note that we constrain them to be strictly positive.\n",
        "amplitude = (np.finfo(np.float64).tiny +\n",
        "             tf.nn.softplus(tf.Variable(initial_value=1.,\n",
        "                                        name='amplitude',\n",
        "                                        dtype=np.float64)))\n",
        "length_scale = (np.finfo(np.float64).tiny +\n",
        "                tf.nn.softplus(tf.Variable(initial_value=1.,\n",
        "                                           name='length_scale',\n",
        "                                           dtype=np.float64)))\n",
        "\n",
        "observation_noise_variance = (\n",
        "    np.finfo(np.float64).tiny +\n",
        "    tf.nn.softplus(tf.Variable(initial_value=1e-6,\n",
        "                               name='observation_noise_variance',\n",
        "                               dtype=np.float64)))"
      ]
    },
    {
      "cell_type": "code",
      "execution_count": 0,
      "metadata": {
        "colab": {},
        "colab_type": "code",
        "id": "GNfCUmnjlXWY"
      },
      "outputs": [],
      "source": [
        "# Create the covariance kernel, which will be shared between the prior (which we\n",
        "# use for maximum likelihood training) and the posterior (which we use for\n",
        "# posterior predictive sampling)\n",
        "kernel = tfk.ExponentiatedQuadratic(amplitude, length_scale)"
      ]
    },
    {
      "cell_type": "code",
      "execution_count": 0,
      "metadata": {
        "colab": {},
        "colab_type": "code",
        "id": "EmmImEdDljIg"
      },
      "outputs": [],
      "source": [
        "# Create the GP prior distribution, which we will use to train the model\n",
        "# parameters.\n",
        "gp = tfd.GaussianProcess(\n",
        "    kernel=kernel,\n",
        "    index_points=observation_index_points_,\n",
        "    observation_noise_variance=observation_noise_variance)\n",
        "\n",
        "# This lets us compute the log likelihood of the observed data. Then we can\n",
        "# maximize this quantity to find optimal model parameters.\n",
        "log_likelihood = gp.log_prob(observations_)"
      ]
    },
    {
      "cell_type": "code",
      "execution_count": 0,
      "metadata": {
        "colab": {},
        "colab_type": "code",
        "id": "N4ZHVZVDmaf6"
      },
      "outputs": [],
      "source": [
        "# Define the optimization ops for maximizing likelihood (minimizing neg\n",
        "# log-likelihood!)\n",
        "optimizer = tf.train.AdamOptimizer(learning_rate=.01)\n",
        "train_op = optimizer.minimize(-log_likelihood)"
      ]
    },
    {
      "cell_type": "code",
      "execution_count": 0,
      "metadata": {
        "colab": {},
        "colab_type": "code",
        "id": "4swUVjI0DZY4"
      },
      "outputs": [],
      "source": [
        "# Now we optimize the model parameters.\n",
        "num_iters = 1000\n",
        "# Store the likelihood values during training\n",
        "lls_ = np.zeros(num_iters, np.float64)\n",
        "sess.run(tf.global_variables_initializer())\n",
        "for i in range(num_iters):\n",
        "  _, lls_[i] = sess.run([train_op, log_likelihood])"
      ]
    },
    {
      "cell_type": "code",
      "execution_count": 0,
      "metadata": {
        "colab": {},
        "colab_type": "code",
        "id": "1DOkwqQEsXVs"
      },
      "outputs": [],
      "source": [
        "# Having trained the model, we'd like to sample from the posterior conditioned\n",
        "# on observations. We'd like the samples to be at points other than the training\n",
        "# inputs.\n",
        "predictive_index_points_ = np.linspace(-1.2, 1.2, 200, dtype=np.float64)\n",
        "# Reshape to [200, 1] -- 1 is the dimensionality of the feature space.\n",
        "predictive_index_points_ = predictive_index_points_[..., np.newaxis]\n",
        "\n",
        "gprm = tfd.GaussianProcessRegressionModel(\n",
        "    kernel=kernel,  # Reuse the same kernel instance, with the same params\n",
        "    index_points=predictive_index_points_,\n",
        "    observation_index_points=observation_index_points_,\n",
        "    observations=observations_,\n",
        "    observation_noise_variance=observation_noise_variance,\n",
        "    predictive_noise_variance=0.)\n",
        "\n",
        "# Create op to draw  50 independent samples, each of which is a *joint* draw\n",
        "# from the posterior at the predictive_index_points_. Since we have 200 input\n",
        "# locations as defined above, this posterior distribution over corresponding\n",
        "# function values is a 200-dimensional multivariate Gaussian distribution!\n",
        "num_samples = 50\n",
        "samples = gprm.sample(num_samples)"
      ]
    },
    {
      "cell_type": "code",
      "execution_count": 62,
      "metadata": {
        "colab": {
          "height": 34
        },
        "colab_type": "code",
        "executionInfo": {
          "elapsed": 265,
          "status": "ok",
          "timestamp": 1538454990050,
          "user": {
            "displayName": "",
            "photoUrl": "",
            "userId": ""
          },
          "user_tz": 240
        },
        "id": "C9mn4TB1tefq",
        "outputId": "cc5abc27-5957-4c9e-c9d1-90e8a660aefb"
      },
      "outputs": [
        {
          "name": "stdout",
          "output_type": "stream",
          "text": [
            "[0.8663238579551471, 0.15117070686789952, 0.12872223583708456]\n"
          ]
        }
      ],
      "source": [
        "samples_ = sess.run(samples)\n",
        "print(sess.run([amplitude, length_scale, observation_noise_variance]))"
      ]
    },
    {
      "cell_type": "code",
      "execution_count": 63,
      "metadata": {
        "colab": {
          "height": 291
        },
        "colab_type": "code",
        "executionInfo": {
          "elapsed": 391,
          "status": "ok",
          "timestamp": 1538454990508,
          "user": {
            "displayName": "",
            "photoUrl": "",
            "userId": ""
          },
          "user_tz": 240
        },
        "id": "QKS1ZvcEuHZs",
        "outputId": "a01dcaa1-9fa5-42f5-fa82-87393379da1a"
      },
      "outputs": [
        {
          "data": {
            "image/png": "[encoded data removed]",
            "text/plain": [
              "\u003cmatplotlib.figure.Figure at 0x7fdb6bce1d10\u003e"
            ]
          },
          "metadata": {
            "tags": []
          },
          "output_type": "display_data"
        }
      ],
      "source": [
        "# Plot the loss evolution\n",
        "plt.figure(figsize=(12, 4))\n",
        "plt.plot(lls_)\n",
        "plt.xlabel(\"Training iteration\")\n",
        "plt.ylabel(\"Log marginal likelihood\")\n",
        "plt.show()"
      ]
    },
    {
      "cell_type": "code",
      "execution_count": 64,
      "metadata": {
        "colab": {
          "height": 291
        },
        "colab_type": "code",
        "executionInfo": {
          "elapsed": 618,
          "status": "ok",
          "timestamp": 1538454991197,
          "user": {
            "displayName": "",
            "photoUrl": "",
            "userId": ""
          },
          "user_tz": 240
        },
        "id": "1XgqrfsSub15",
        "outputId": "6a3677ce-018b-49fa-a8ef-7daff9db15a1"
      },
      "outputs": [
        {
          "data": {
            "image/png": "[encoded data removed]",
            "text/plain": [
              "\u003cmatplotlib.figure.Figure at 0x7fdb67bb7c50\u003e"
            ]
          },
          "metadata": {
            "tags": []
          },
          "output_type": "display_data"
        }
      ],
      "source": [
        "# Plot the true function, observations, and posterior samples.\n",
        "plt.figure(figsize=(12, 4))\n",
        "plt.plot(predictive_index_points_, sinusoid(predictive_index_points_),\n",
        "         label='True fn')\n",
        "plt.scatter(observation_index_points_[:, 0], observations_,\n",
        "            label='Observations')\n",
        "for i in range(num_samples):\n",
        "  plt.plot(predictive_index_points_, samples_[i, :], c='r', alpha=.1,\n",
        "           label='Posterior Sample' if i == 0 else None)\n",
        "leg = plt.legend()\n",
        "for lh in leg.legendHandles: \n",
        "    lh.set_alpha(1)\n",
        "plt.xlabel(r\"Index points ($\\mathbb{R}^1)\")\n",
        "plt.ylabel(\"Observation space\")\n",
        "plt.show()"
      ]
    },
    {
      "cell_type": "markdown",
      "metadata": {
        "colab_type": "text",
        "id": "aZe4H-7jy0hR"
      },
      "source": [
        "*Note: if you run the above code several times, sometimes it looks great and\n",
        "other times it looks terrible! The maximum likelihood training of the parameters\n",
        "is quite sensitive and sometimes converges to poor models. The best approach\n",
        "is to use MCMC to marginalize the model hyperparameters.*"
      ]
    }
  ],
  "metadata": {
    "colab": {
      "collapsed_sections": [],
      "name": "Gaussian Process Regression in TensorFlow Probability",
      "provenance": [
        {
          "file_id": "1w4FZslgiCCMWUT7NbGi6fnSPY6YhTSDJ",
          "timestamp": 1537383195517
        }
      ],
      "version": "0.3.2"
    }
  },
  "nbformat": 4,
  "nbformat_minor": 0
}
