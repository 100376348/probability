{
  "cells": [
    {
      "cell_type": "markdown",
      "metadata": {
        "colab_type": "text",
        "id": "ADKY4re5Kx-5"
      },
      "source": [
        "##### Copyright 2018 The TensorFlow Authors.\n",
        "\n",
        "Licensed under the Apache License, Version 2.0 (the \"License\");"
      ]
    },
    {
      "cell_type": "code",
      "execution_count": 0,
      "metadata": {
        "colab": {},
        "colab_type": "code",
        "id": "S2AOrHzjK0_L"
      },
      "outputs": [],
      "source": [
        "#@title Licensed under the Apache License, Version 2.0 (the \"License\"); { display-mode: \"form\" }\n",
        "# you may not use this file except in compliance with the License.\n",
        "# You may obtain a copy of the License at\n",
        "#\n",
        "# https://www.apache.org/licenses/LICENSE-2.0\n",
        "#\n",
        "# Unless required by applicable law or agreed to in writing, software\n",
        "# distributed under the License is distributed on an \"AS IS\" BASIS,\n",
        "# WITHOUT WARRANTIES OR CONDITIONS OF ANY KIND, either express or implied.\n",
        "# See the License for the specific language governing permissions and\n",
        "# limitations under the License."
      ]
    },
    {
      "cell_type": "markdown",
      "metadata": {
        "colab_type": "text",
        "id": "56dF5DnkKx0a"
      },
      "source": [
        "# Credit Card Interest\n",
        "\n",
        "\u003ctable class=\"tfo-notebook-buttons\" align=\"left\"\u003e\n",
        "  \u003ctd\u003e\n",
        "    \u003ca target=\"_blank\" href=\"https://colab.research.google.com/github/tensorflow/probability/blob/master/tensorflow_probability/examples/jupyter_notebooks/Credit_Card_Interest.ipynb\"\u003e\u003cimg src=\"https://www.tensorflow.org/images/colab_logo_32px.png\" /\u003eRun in Google Colab\u003c/a\u003e\n",
        "  \u003c/td\u003e\n",
        "  \u003ctd\u003e\n",
        "    \u003ca target=\"_blank\" href=\"https://github.com/tensorflow/probability/blob/master/tensorflow_probability/examples/jupyter_notebooks/Credit_Card_Interest.ipynb\"\u003e\u003cimg src=\"https://www.tensorflow.org/images/GitHub-Mark-32px.png\" /\u003eView source on GitHub\u003c/a\u003e\n",
        "  \u003c/td\u003e\n",
        "\u003c/table\u003e"
      ]
    },
    {
      "cell_type": "markdown",
      "metadata": {
        "colab_type": "text",
        "id": "rTFa-AE9KxFC"
      },
      "source": [
        "Let’s imagine that you would like to estimate the interest rate on your credit card one year from now. Suppose the current prime rate is 2% and your credit card company charges you 10% plus prime. Given the strength of the current economy, you believe that the Federal Reserve is more likely to raise interest rates than not. The Fed will meet eight times in the next twelve months and will either raise the federal funds rate by 0.25% or leave it at the previous level. \n",
        "\n",
        "We use the binomial distribution to model your credit card’s interest rate at the end of the twelve-month period. Specifically, we’ll use the TensorFlow Probability Binomial distribution class  with the following parameters: total_count = 8 (number of trials or meetings), probs = {.6, .7, .8, .9}, for our range of estimates about the probability of the Fed raising the federal funds rate by 0.25% at each meeting."
      ]
    },
    {
      "cell_type": "markdown",
      "metadata": {
        "colab_type": "text",
        "id": "6C5X22NiK9r2"
      },
      "source": [
        "### Dependencies \u0026 Prerequisites"
      ]
    },
    {
      "cell_type": "code",
      "execution_count": 15,
      "metadata": {
        "colab": {
          "height": 33
        },
        "colab_type": "code",
        "executionInfo": {
          "elapsed": 12753,
          "status": "ok",
          "timestamp": 1537572633325,
          "user": {
            "displayName": "",
            "photoUrl": "",
            "userId": ""
          },
          "user_tz": 420
        },
        "id": "sZzHCBk6Kti8",
        "outputId": "5c13babd-2024-4c10-b5ae-b154ed9f8e3d"
      },
      "outputs": [
        {
          "name": "stdout",
          "output_type": "stream",
          "text": [
            "Up-to-date, stable  TFP version installed\n"
          ]
        }
      ],
      "source": [
        "#@title Tensorflow Probability Installation settings { display-mode: \"form\" }\n",
        "TFP_Installation = \"Stable TFP\" #@param [\"Most Recent TFP\", \"Stable TFP\", \"Stable TFP-GPU\", \"Most Recent TFP-GPU\", \"TFP Already Installed\"]\n",
        "\n",
        "if TFP_Installation == \"Most Recent TFP\":\n",
        "    !pip install -q tfp-nightly\n",
        "    print(\"Most recent TFP version installed\")\n",
        "elif TFP_Installation == \"Stable TFP\":\n",
        "    !pip install -q --upgrade tensorflow-probability\n",
        "    print(\"Up-to-date, stable  TFP version installed\")\n",
        "elif TFP_Installation == \"Stable TFP-GPU\":\n",
        "    !pip install -q --upgrade tensorflow-probability-gpu\n",
        "    print(\"Up-to-date, stable TFP-GPU version installed\")\n",
        "    print(\"(make sure GPU is properly configured)\")\n",
        "elif TFP_Installation == \"Most Recent TFP-GPU\":\n",
        "    !pip install -q tfp-nightly-gpu\n",
        "    print(\"Most recent TFP-GPU version installed\")\n",
        "    print(\"(make sure GPU is properly configured)\")\n",
        "elif TFP_Installation == \"TFP Already Installed\":\n",
        "    print(\"TFP already installed in this environment\")\n",
        "    pass\n",
        "else:\n",
        "    print(\"Installation Error: Please select a viable TFP installation option.\")\n",
        "\n"
      ]
    },
    {
      "cell_type": "code",
      "execution_count": 0,
      "metadata": {
        "colab": {},
        "colab_type": "code",
        "id": "MFezX4J_LAJe"
      },
      "outputs": [],
      "source": [
        "#@title Imports and Global Variables (make sure to run this cell)  { display-mode: \"form\" }\n",
        "from __future__ import absolute_import, division, print_function\n",
        "\n",
        "warning_status = \"ignore\" #@param [\"ignore\", \"always\", \"module\", \"once\", \"default\", \"error\"]\n",
        "import warnings\n",
        "warnings.filterwarnings(warning_status)\n",
        "with warnings.catch_warnings():\n",
        "    warnings.filterwarnings(warning_status, category=DeprecationWarning)\n",
        "    warnings.filterwarnings(warning_status, category=UserWarning)\n",
        "\n",
        "import numpy as np\n",
        "import os\n",
        "matplotlib_style = 'fivethirtyeight' #@param ['fivethirtyeight', 'bmh', 'ggplot', 'seaborn', 'default', 'Solarize_Light2', 'classic', 'dark_background', 'seaborn-colorblind', 'seaborn-notebook']\n",
        "import matplotlib.pyplot as plt; plt.style.use(matplotlib_style)\n",
        "import matplotlib.axes as axes;\n",
        "from matplotlib.patches import Ellipse\n",
        "%matplotlib inline\n",
        "import seaborn as sns; sns.set_context('notebook')\n",
        "notebook_screen_res = 'png' #@param ['retina', 'png', 'jpeg', 'svg', 'pdf']\n",
        "%config InlineBackend.figure_format = notebook_screen_res\n",
        "\n",
        "import tensorflow as tf\n",
        "tfe = tf.contrib.eager\n",
        "\n",
        "# Eager Execution\n",
        "use_tf_eager = True #@param {type:\"boolean\"}\n",
        "\n",
        "def reset_session():\n",
        "  if tf.executing_eagerly():\n",
        "    return\n",
        "  global sess\n",
        "  try:\n",
        "    tf.reset_default_graph()\n",
        "    sess.close()\n",
        "  except:\n",
        "    pass\n",
        "  sess = tf.InteractiveSession(config=tf.ConfigProto(\n",
        "      log_device_placement=True))\n",
        "\n",
        "# Use try/except so we can easily re-execute the whole notebook.\n",
        "if use_tf_eager:\n",
        "  try:\n",
        "    tf.enable_eager_execution()\n",
        "  except:\n",
        "    reset_session()\n",
        "\n",
        "\n",
        "import tensorflow_probability as tfp\n",
        "tfd = tfp.distributions\n",
        "tfb = tfp.bijectors\n",
        "\n",
        "  \n",
        "def evaluate(tensors):\n",
        "  \"\"\"Evaluates Tensor or EagerTensor to Numpy `ndarray`s.\n",
        "  Args:\n",
        "  tensors: Object of `Tensor` or EagerTensor`s; can be `list`, `tuple`,\n",
        "    `namedtuple` or combinations thereof.\n",
        " \n",
        "  Returns:\n",
        "    ndarrays: Object with same structure as `tensors` except with `Tensor` or\n",
        "      `EagerTensor`s replaced by Numpy `ndarray`s.\n",
        "  \"\"\"\n",
        "  if tf.executing_eagerly():\n",
        "    return tf.contrib.framework.nest.pack_sequence_as(\n",
        "        tensors,\n",
        "        [t.numpy() if tf.contrib.framework.is_tensor(t) else t\n",
        "         for t in tf.contrib.framework.nest.flatten(tensors)])\n",
        "  return sess.run(tensors)\n",
        "\n",
        "class _TFColor(object):\n",
        "  \"\"\"Enum of colors used in TF docs.\"\"\"\n",
        "  red = '#F15854'\n",
        "  blue = '#5DA5DA'\n",
        "  orange = '#FAA43A'\n",
        "  green = '#60BD68'\n",
        "  def __getitem__(self, i):\n",
        "    return [\n",
        "        self.red,\n",
        "        self.orange,\n",
        "        self.green,\n",
        "        self.blue,\n",
        "    ][i % 4]\n",
        "TFColor = _TFColor()"
      ]
    },
    {
      "cell_type": "markdown",
      "metadata": {
        "colab_type": "text",
        "id": "e9u6sQuaLCuh"
      },
      "source": [
        "### Compute Probabilities"
      ]
    },
    {
      "cell_type": "markdown",
      "metadata": {
        "colab_type": "text",
        "id": "PzMNEA2LLEiY"
      },
      "source": [
        "Compute the probabilities of possible credit card interest rates in 12 months."
      ]
    },
    {
      "cell_type": "code",
      "execution_count": 0,
      "metadata": {
        "colab": {},
        "colab_type": "code",
        "id": "1tLQMGHeLFtT"
      },
      "outputs": [],
      "source": [
        "# First we encode our assumptions.\n",
        "num_times_fed_meets_per_year = 8.\n",
        "possible_fed_increases = tf.range(\n",
        "    start=0.,\n",
        "    limit=num_times_fed_meets_per_year + 1)\n",
        "possible_cc_interest_rates = 2. + 10. + 0.25 * possible_fed_increases \n",
        "prob_fed_raises_rates = tf.constant([0.6, 0.7, 0.8, 0.9])  # Wild guesses.\n",
        "\n",
        "# Now we use TFP to compute probabilities in a vectorized manner.\n",
        "# Pad a dim so we broadcast fed probs against CC interest rates.\n",
        "prob_fed_raises_rates = prob_fed_raises_rates[..., tf.newaxis]\n",
        "prob_cc_interest_rate = tfd.Binomial(\n",
        "    total_count=num_times_fed_meets_per_year,\n",
        "    probs=prob_fed_raises_rates).prob(possible_fed_increases)"
      ]
    },
    {
      "cell_type": "markdown",
      "metadata": {
        "colab_type": "text",
        "id": "37ZjdqA8LISQ"
      },
      "source": [
        "### Execute TF Code"
      ]
    },
    {
      "cell_type": "code",
      "execution_count": 0,
      "metadata": {
        "colab": {},
        "colab_type": "code",
        "id": "X6DVo4YzLIq4"
      },
      "outputs": [],
      "source": [
        "# Convert from TF to numpy.\n",
        "[\n",
        "    possible_cc_interest_rates_,\n",
        "    prob_cc_interest_rate_,\n",
        "    prob_fed_raises_rates_,\n",
        "] = evaluate([\n",
        "    possible_cc_interest_rates,\n",
        "    prob_cc_interest_rate,\n",
        "    prob_fed_raises_rates,\n",
        "])"
      ]
    },
    {
      "cell_type": "markdown",
      "metadata": {
        "colab_type": "text",
        "id": "WKj9nGWuLL2w"
      },
      "source": [
        "### Visualize Results"
      ]
    },
    {
      "cell_type": "code",
      "execution_count": 19,
      "metadata": {
        "colab": {
          "height": 677
        },
        "colab_type": "code",
        "executionInfo": {
          "elapsed": 499,
          "status": "ok",
          "timestamp": 1537572634198,
          "user": {
            "displayName": "",
            "photoUrl": "",
            "userId": ""
          },
          "user_tz": 420
        },
        "id": "kzXDZJhZLNMn",
        "outputId": "d76e7b80-6262-445d-ec88-c3b0f0b944a9"
      },
      "outputs": [
        {
          "data": {
            "image/png": "[encoded data removed]",
            "text/plain": [
              "\u003cmatplotlib.figure.Figure at 0x7f17ffb0c090\u003e"
            ]
          },
          "metadata": {
            "tags": []
          },
          "output_type": "display_data"
        }
      ],
      "source": [
        "plt.figure(figsize=(16, 9))\n",
        "for i, pf in enumerate(prob_fed_raises_rates_):\n",
        "  plt.subplot(2, 2, i+1)\n",
        "  plt.bar(possible_cc_interest_rates_,\n",
        "          prob_cc_interest_rate_[i],\n",
        "          color=TFColor[i],\n",
        "          width=0.23,\n",
        "          label=\"$p = {:.1f}$\".format(pf[0]),\n",
        "          alpha=0.6,\n",
        "          edgecolor=TFColor[i],\n",
        "          lw=\"3\")\n",
        "  plt.xticks(possible_cc_interest_rates_ + 0.125, possible_cc_interest_rates_)\n",
        "  plt.xlim(12, 14.25);\n",
        "  plt.ylim(0, 0.5);\n",
        "  plt.ylabel(\"Probability of cc interest rate\")\n",
        "  plt.xlabel(\"Credit card interest rate (%)\")\n",
        "  plt.title(\"Credit card interest rates: \"\n",
        "            \"prob_fed_raises_rates = {:.1f}\".format(pf[0]));\n",
        "  plt.suptitle(\"Estimates of credit card interest rates in 12 months.\",\n",
        "               fontsize=\"x-large\",\n",
        "               y=1.02)\n",
        "  plt.tight_layout()"
      ]
    }
  ],
  "metadata": {
    "colab": {
      "collapsed_sections": [],
      "last_runtime": {
        "build_target": "",
        "kind": "local"
      },
      "name": "Credit_Card_Interest.ipynb",
      "provenance": [
        {
          "file_id": "1w4FZslgiCCMWUT7NbGi6fnSPY6YhTSDJ",
          "timestamp": 1537383195517
        }
      ],
      "version": "0.3.2"
    }
  },
  "nbformat": 4,
  "nbformat_minor": 0
}
